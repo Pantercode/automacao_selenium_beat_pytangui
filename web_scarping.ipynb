{
 "cells": [
  {
   "cell_type": "code",
   "execution_count": 12,
   "metadata": {},
   "outputs": [],
   "source": [
    "import requests\n",
    "from bs4 import BeautifulSoup "
   ]
  },
  {
   "cell_type": "code",
   "execution_count": 13,
   "metadata": {},
   "outputs": [],
   "source": [
    "# url de armazenamento\n",
    "\n",
    "url = 'https://www.globo.com/'\n",
    "page = requests.get(url)"
   ]
  },
  {
   "cell_type": "code",
   "execution_count": 14,
   "metadata": {},
   "outputs": [
    {
     "data": {
      "text/plain": [
       "<Response [200]>"
      ]
     },
     "execution_count": 14,
     "metadata": {},
     "output_type": "execute_result"
    }
   ],
   "source": [
    "#conferindo a conexao\n",
    "page"
   ]
  },
  {
   "cell_type": "code",
   "execution_count": 15,
   "metadata": {},
   "outputs": [],
   "source": [
    "# conteudo da pagina web\n",
    "resposta = page.text"
   ]
  },
  {
   "cell_type": "code",
   "execution_count": 17,
   "metadata": {},
   "outputs": [],
   "source": [
    "# Organizando a respota em html\n",
    "soup = BeautifulSoup(resposta, 'html.parser')"
   ]
  },
  {
   "cell_type": "code",
   "execution_count": 24,
   "metadata": {},
   "outputs": [],
   "source": [
    "noticias = soup.find_all('h2', {'class': 'post__title'})"
   ]
  },
  {
   "cell_type": "code",
   "execution_count": 27,
   "metadata": {},
   "outputs": [
    {
     "name": "stdout",
     "output_type": "stream",
     "text": [
      "Dino amplia decisão de bloqueio para parte dos R$ 2,5 bi em emendas\n",
      "Governo pede para Dino liberar pagamento de emendas para a saúde\n",
      "Chuva de granizo em SP derruba parte de teto de mercado\n",
      "Vai chover na virada do ano? Confira previsão\n",
      "Lula assina decreto que reajusta salário mínimo, diz Planalto\n",
      "Veja as medidas na área econômica anunciadas\n",
      "Dólar tem queda, mas fecha 2024 com alta de 27%, a R$ 6,17\n",
      "BC somou US$ 32,5 bi em intervenções no mês\n",
      "Homem persegue suspeito, mas mata mãe e filha em SP\n",
      "Polícia apreende 5 toneladas de drogas em favela no RJ\n",
      "Bala perdida atinge mulher que pegava sol em piscina no RJ\n",
      "Com Soteldo e Diego Costa, Grêmio anuncia barca de fim de ano\n",
      "No Flamengo, Boto rebate crítica de David Luiz sobre saída\n",
      "Fluminense anuncia a contratação do jovem atacante Joaquín Lavega\n",
      "Joga junto?  Ranking mostra torcidas que cantam mais alto\n",
      "'Mania de Você': Filipa assume identidade falsa com ajuda de Mavi\n",
      "Grávida, Bruna Biancardi surge em clima romântico com Neymar em balada\n",
      "Graciele Lacerda posta vídeo do parto de Clara, sua filha com Zezé; veja\n",
      "Dias após se tornar pai, Luan Santana se declara à filha\n",
      "Fuga em massa de lulus-da-pomerânia é registrada após portão abrir sozinho em SC\n",
      "Garota de 11 anos faz vídeo racista contra menina de 12 em SP; falas são estarrecedoras\n",
      "Lancha é esmagada por balsa no Rio Solimões, e passageiros pulam para se salvar; vídeo\n",
      "Sobrinha relata estupros durante a infância cometidos por ex-pastor brasileiro preso\n",
      "Mamma Bruschetta é internada em UTI de hospital em São Paulo após episódio de engasgo\n",
      "Mansão mais cara de 2024 nos EUA foi vendida por R$ 594 milhões; veja a parte interna\n",
      "Neymar volta a jogar e faz um gol em jogo amistoso do Al-Hilal; veja o vídeo\n",
      "Técnico do Juventude vai receber medalha da Liberta por título do Bota: 'Feliz pela lembrança'\n",
      "Estádio no CT para base e futebol feminino do Fla começa a ganhar forma; veja\n",
      "Técnico com negociação travada com Corinthians nega frustração: 'Não era para ser'\n",
      "Mirassol contrata Reinaldo, ex-Grêmio e São Paulo; Rafa Silva também deve ser anunciado\n",
      "Promessa João Fonseca vence ex-top 40 na estreia no Challenger 125 de Camberra\n",
      "Cantora Ella celebra sua cirurgia de redesignação sexual: 'Sonho realizado'\n",
      "Ator Idris Elba relaxa em quiosque à beira-mar na Barra da Tijuca, no Rio de Janeiro\n",
      "Vivendo há anos em barco, Max Fercondini diz que não pensa em terra firme e que 'rola namorico'\n",
      "Em retrospectiva, João Lucas se declara para Sasha: 'Amor da minha vida'\n",
      "Rafa Justus renova o bronze na fazenda da família, no interior de São Paulo\n",
      "Luciana Gimenez é elogiada por look sensual com vestido de oncinha na Bahia\n",
      "Spa exclusivo para bebês oferece massagem e banho relaxante no RJ\n",
      "Antes só... descubra os benefícios de passar a virada de ano sozinho\n",
      "Entenda por que algumas pessoas não gostam de comemorar aniversários\n",
      "Lembra de tudo? Teste sua memória sobre acontecimentos de 2024\n",
      "Consegue adivinhar quem são os pais dessas fofuras?\n",
      "Das Olimpíadas ao futebol: você se lembra dos acontecimentos esportivos do ano?\n",
      "'BBB: o documentário' tem Grazi, Sabrina e mais nomes icônicos\n",
      "Gerson descobre que Madá é sobrinha de Osmar\n",
      "Juliano mente sobre a própria filha para Arlete\n",
      "Cunhada de Ivete também será atração no Show da Virada, em Copacabana\n",
      "GTA 6 tem vídeo 'secreto' com trailer do game melhorado; veja\n",
      "Poco X5 Pro vs Poco X5: saiba o que muda entre celulares da Xiaomi\n",
      "Conta de luz aumenta no verão? Entenda motivos e saiba economizar\n",
      "Vai trocar de fogão? 6 opções para começar 2025 com a cozinha renovada\n",
      "'O Assunto' explica o que é 'brain rot', a exaustão que marcou 2024\n",
      "'A vida dá uns sustos, uns sacodes', diz Heloísa Perissé sobre separação; ouça no ELA Pod\n",
      "Encontre os melhores podcasts da Globo em um só lugar; aperte o play e divirta-se\n"
     ]
    }
   ],
   "source": [
    "for noticias in noticias:\n",
    "  print(noticias.text.strip())"
   ]
  }
 ],
 "metadata": {
  "kernelspec": {
   "display_name": ".venv",
   "language": "python",
   "name": "python3"
  },
  "language_info": {
   "codemirror_mode": {
    "name": "ipython",
    "version": 3
   },
   "file_extension": ".py",
   "mimetype": "text/x-python",
   "name": "python",
   "nbconvert_exporter": "python",
   "pygments_lexer": "ipython3",
   "version": "3.12.8"
  }
 },
 "nbformat": 4,
 "nbformat_minor": 2
}
